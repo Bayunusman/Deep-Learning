{
  "nbformat": 4,
  "nbformat_minor": 0,
  "metadata": {
    "colab": {
      "provenance": []
    },
    "kernelspec": {
      "name": "python3",
      "display_name": "Python 3"
    },
    "language_info": {
      "name": "python"
    }
  },
  "cells": [
    {
      "cell_type": "code",
      "execution_count": null,
      "metadata": {
        "id": "iBXQFa4M4RiK"
      },
      "outputs": [],
      "source": [
        "import tensorflow as tf\n",
        "from keras.preprocessing.image import ImageDataGenerator"
      ]
    },
    {
      "cell_type": "code",
      "source": [
        "from google.colab import drive\n",
        "drive.mount('/content/drive')"
      ],
      "metadata": {
        "colab": {
          "base_uri": "https://localhost:8080/"
        },
        "id": "9iLELcLb-IuT",
        "outputId": "c7dd676c-436f-49ae-d9ee-6aac5d1757a5"
      },
      "execution_count": null,
      "outputs": [
        {
          "output_type": "stream",
          "name": "stdout",
          "text": [
            "Drive already mounted at /content/drive; to attempt to forcibly remount, call drive.mount(\"/content/drive\", force_remount=True).\n"
          ]
        }
      ]
    },
    {
      "cell_type": "code",
      "source": [
        "img_path1 = '/content/drive/My Drive/TIA/Deep Learning/dataset/training_set'\n",
        "img_path2 = '/content/drive/My Drive/TIA/Deep Learning/dataset/test_set'"
      ],
      "metadata": {
        "id": "xhF1KWvH_Cb7"
      },
      "execution_count": null,
      "outputs": []
    },
    {
      "cell_type": "markdown",
      "source": [
        "## Part 1 - Data Preprocessing"
      ],
      "metadata": {
        "id": "oRrmqWhpYN09"
      }
    },
    {
      "cell_type": "code",
      "source": [
        "#Preprocessing the Training Set\n",
        "train_datagen = ImageDataGenerator(\n",
        "        rescale=1./255,\n",
        "        shear_range=0.2,\n",
        "        zoom_range=0.2,\n",
        "        horizontal_flip=True)"
      ],
      "metadata": {
        "id": "DG2S8UfEWdXr"
      },
      "execution_count": null,
      "outputs": []
    },
    {
      "cell_type": "code",
      "source": [
        "testing_set = train_datagen.flow_from_directory(\n",
        "        img_path1,\n",
        "        target_size=(64, 64),\n",
        "        batch_size=32,\n",
        "        class_mode='binary')\n"
      ],
      "metadata": {
        "colab": {
          "base_uri": "https://localhost:8080/"
        },
        "id": "EdrWwtf7ZtFD",
        "outputId": "dd2ac8ca-dc16-4313-cb60-d8e331ae0bc6"
      },
      "execution_count": null,
      "outputs": [
        {
          "output_type": "stream",
          "name": "stdout",
          "text": [
            "Found 8000 images belonging to 2 classes.\n"
          ]
        }
      ]
    },
    {
      "cell_type": "markdown",
      "source": [
        "## Preprocessing the Test Set"
      ],
      "metadata": {
        "id": "eL4drkOxblV0"
      }
    },
    {
      "cell_type": "code",
      "source": [
        "train_datagen = ImageDataGenerator(\n",
        "        rescale=1./255)"
      ],
      "metadata": {
        "id": "P2Wg5dLUbeoO"
      },
      "execution_count": null,
      "outputs": []
    },
    {
      "cell_type": "code",
      "source": [
        "training_set = train_datagen.flow_from_directory(\n",
        "        img_path2,\n",
        "        target_size=(64, 64),\n",
        "        batch_size=32,\n",
        "        class_mode='binary')"
      ],
      "metadata": {
        "colab": {
          "base_uri": "https://localhost:8080/"
        },
        "id": "WWbGfUYKdmH0",
        "outputId": "2cef8e9a-6a71-486e-f375-c64f80cda957"
      },
      "execution_count": null,
      "outputs": [
        {
          "output_type": "stream",
          "name": "stdout",
          "text": [
            "Found 2000 images belonging to 2 classes.\n"
          ]
        }
      ]
    },
    {
      "cell_type": "markdown",
      "source": [
        "# Building the CNN"
      ],
      "metadata": {
        "id": "5h0FSvaddsUh"
      }
    },
    {
      "cell_type": "markdown",
      "source": [
        "## Initialing the CNN"
      ],
      "metadata": {
        "id": "tyWimvSWdtpI"
      }
    },
    {
      "cell_type": "code",
      "source": [
        "cnn = tf.keras.models.Sequential()"
      ],
      "metadata": {
        "id": "RVGAG-hEdph5"
      },
      "execution_count": null,
      "outputs": []
    },
    {
      "cell_type": "markdown",
      "source": [
        "## Convolution"
      ],
      "metadata": {
        "id": "qR0vO0Pfd2F5"
      }
    },
    {
      "cell_type": "code",
      "source": [
        "#step 1\n",
        "cnn.add(tf.keras.layers.Conv2D(filters=32, kernel_size=3, activation='relu', input_shape=[64, 64, 3]))"
      ],
      "metadata": {
        "id": "vr7oGA1Qdz1n"
      },
      "execution_count": null,
      "outputs": []
    },
    {
      "cell_type": "code",
      "source": [
        "#step 2\n",
        "cnn.add(tf.keras.layers.MaxPooling2D(pool_size=2, strides=2))"
      ],
      "metadata": {
        "id": "0FJX7V8ceb11"
      },
      "execution_count": null,
      "outputs": []
    },
    {
      "cell_type": "code",
      "source": [
        "#Adding the Second convolutional layer\n",
        "cnn.add(tf.keras.layers.Conv2D(filters=32, kernel_size=3, activation='relu'))\n",
        "cnn.add(tf.keras.layers.MaxPooling2D(pool_size=2, strides=2))"
      ],
      "metadata": {
        "id": "32XNGW6Se8eV"
      },
      "execution_count": null,
      "outputs": []
    },
    {
      "cell_type": "code",
      "source": [
        "#step 3 Flattening\n",
        "cnn.add(tf.keras.layers.Flatten())"
      ],
      "metadata": {
        "id": "HHIaNNC3fbSl"
      },
      "execution_count": null,
      "outputs": []
    },
    {
      "cell_type": "code",
      "source": [
        "#Step 4 - Full Connection\n",
        "cnn.add(tf.keras.layers.Dense(units=128, activation='relu'))"
      ],
      "metadata": {
        "id": "KJ86FZ8Yfiik"
      },
      "execution_count": null,
      "outputs": []
    },
    {
      "cell_type": "code",
      "source": [
        "#Step 5 - Output Layer\n",
        "#units = 1 , anjing atau kucing\n",
        "cnn.add(tf.keras.layers.Dense(units=1, activation='sigmoid'))"
      ],
      "metadata": {
        "id": "U9gmc8Zwfwf1"
      },
      "execution_count": null,
      "outputs": []
    },
    {
      "cell_type": "markdown",
      "source": [
        "# Part 3 - Trainng the CNN"
      ],
      "metadata": {
        "id": "NTYC3B21gZwz"
      }
    },
    {
      "cell_type": "code",
      "source": [
        "# cOMPLING THE cnn\n",
        "cnn.compile(optimizer = 'adam', loss = 'binary_crossentropy', metrics = ['accuracy'])"
      ],
      "metadata": {
        "id": "RlbGndtdgLGX"
      },
      "execution_count": null,
      "outputs": []
    },
    {
      "cell_type": "markdown",
      "source": [
        "# Training the CNN on the Training Set"
      ],
      "metadata": {
        "id": "LE45MuxlgyYe"
      }
    },
    {
      "cell_type": "code",
      "source": [
        "#cnn.fit(x = training_set, validation_data = img_path2, epochs=25)\n",
        "cnn.fit(x = training_set, validation_data = testing_set,epochs=25)"
      ],
      "metadata": {
        "colab": {
          "base_uri": "https://localhost:8080/"
        },
        "id": "GPAVLTGfg4yM",
        "outputId": "d91afd76-8bf6-4d02-f867-baf220d80af3"
      },
      "execution_count": null,
      "outputs": [
        {
          "output_type": "stream",
          "name": "stdout",
          "text": [
            "Epoch 1/25\n",
            "63/63 [==============================] - 4108s 66s/step - loss: 0.6998 - accuracy: 0.5370 - val_loss: 0.6820 - val_accuracy: 0.6012\n",
            "Epoch 2/25\n",
            "63/63 [==============================] - 102s 2s/step - loss: 0.6650 - accuracy: 0.6075 - val_loss: 0.6725 - val_accuracy: 0.5949\n",
            "Epoch 3/25\n",
            "63/63 [==============================] - 101s 2s/step - loss: 0.6099 - accuracy: 0.6725 - val_loss: 0.6438 - val_accuracy: 0.6118\n",
            "Epoch 4/25\n",
            "63/63 [==============================] - 100s 2s/step - loss: 0.5386 - accuracy: 0.7390 - val_loss: 0.5891 - val_accuracy: 0.6862\n",
            "Epoch 5/25\n",
            "63/63 [==============================] - 101s 2s/step - loss: 0.4719 - accuracy: 0.7815 - val_loss: 0.5984 - val_accuracy: 0.6877\n",
            "Epoch 6/25\n",
            "63/63 [==============================] - 100s 2s/step - loss: 0.4133 - accuracy: 0.8100 - val_loss: 0.6198 - val_accuracy: 0.6751\n",
            "Epoch 7/25\n",
            "63/63 [==============================] - 80s 1s/step - loss: 0.3517 - accuracy: 0.8470 - val_loss: 0.6296 - val_accuracy: 0.6794\n",
            "Epoch 8/25\n",
            "63/63 [==============================] - 78s 1s/step - loss: 0.2990 - accuracy: 0.8695 - val_loss: 0.6357 - val_accuracy: 0.7010\n",
            "Epoch 9/25\n",
            "63/63 [==============================] - 100s 2s/step - loss: 0.2288 - accuracy: 0.9105 - val_loss: 0.6791 - val_accuracy: 0.7011\n",
            "Epoch 10/25\n",
            "63/63 [==============================] - 100s 2s/step - loss: 0.1775 - accuracy: 0.9375 - val_loss: 0.7103 - val_accuracy: 0.6944\n",
            "Epoch 11/25\n",
            "63/63 [==============================] - 102s 2s/step - loss: 0.1360 - accuracy: 0.9540 - val_loss: 0.8098 - val_accuracy: 0.6913\n",
            "Epoch 12/25\n",
            "63/63 [==============================] - 102s 2s/step - loss: 0.0998 - accuracy: 0.9695 - val_loss: 0.8866 - val_accuracy: 0.6904\n",
            "Epoch 13/25\n",
            "63/63 [==============================] - 102s 2s/step - loss: 0.0674 - accuracy: 0.9795 - val_loss: 0.9921 - val_accuracy: 0.6895\n",
            "Epoch 14/25\n",
            "63/63 [==============================] - 100s 2s/step - loss: 0.0427 - accuracy: 0.9925 - val_loss: 1.0682 - val_accuracy: 0.6831\n",
            "Epoch 15/25\n",
            "63/63 [==============================] - 78s 1s/step - loss: 0.0304 - accuracy: 0.9965 - val_loss: 1.1902 - val_accuracy: 0.6898\n",
            "Epoch 16/25\n",
            "63/63 [==============================] - 100s 2s/step - loss: 0.0151 - accuracy: 0.9990 - val_loss: 1.2182 - val_accuracy: 0.6911\n",
            "Epoch 17/25\n",
            "63/63 [==============================] - 102s 2s/step - loss: 0.0099 - accuracy: 1.0000 - val_loss: 1.3007 - val_accuracy: 0.6866\n",
            "Epoch 18/25\n",
            "63/63 [==============================] - 102s 2s/step - loss: 0.0062 - accuracy: 1.0000 - val_loss: 1.3119 - val_accuracy: 0.6939\n",
            "Epoch 19/25\n",
            "63/63 [==============================] - 100s 2s/step - loss: 0.0043 - accuracy: 1.0000 - val_loss: 1.4137 - val_accuracy: 0.6852\n",
            "Epoch 20/25\n",
            "63/63 [==============================] - 100s 2s/step - loss: 0.0034 - accuracy: 1.0000 - val_loss: 1.4742 - val_accuracy: 0.6888\n",
            "Epoch 21/25\n",
            "63/63 [==============================] - 100s 2s/step - loss: 0.0028 - accuracy: 1.0000 - val_loss: 1.4871 - val_accuracy: 0.6915\n",
            "Epoch 22/25\n",
            "63/63 [==============================] - 102s 2s/step - loss: 0.0024 - accuracy: 1.0000 - val_loss: 1.4791 - val_accuracy: 0.6979\n",
            "Epoch 23/25\n",
            "63/63 [==============================] - 78s 1s/step - loss: 0.0019 - accuracy: 1.0000 - val_loss: 1.5295 - val_accuracy: 0.6908\n",
            "Epoch 24/25\n",
            "63/63 [==============================] - 101s 2s/step - loss: 0.0017 - accuracy: 1.0000 - val_loss: 1.5863 - val_accuracy: 0.6867\n",
            "Epoch 25/25\n",
            "63/63 [==============================] - 100s 2s/step - loss: 0.0015 - accuracy: 1.0000 - val_loss: 1.5890 - val_accuracy: 0.6877\n"
          ]
        },
        {
          "output_type": "execute_result",
          "data": {
            "text/plain": [
              "<keras.callbacks.History at 0x7fbf3b5d9960>"
            ]
          },
          "metadata": {},
          "execution_count": 62
        }
      ]
    },
    {
      "cell_type": "markdown",
      "source": [
        "# Part 4 - Making the Single Predection"
      ],
      "metadata": {
        "id": "N3aYYcX9nXEf"
      }
    },
    {
      "cell_type": "code",
      "source": [
        "import numpy as np\n",
        "from PIL import Image\n",
        "\n",
        "test_image = Image.open(\"kucing.jpg\")\n",
        "test_image = test_image.resize((64, 64))\n",
        "test_image = np.array(test_image)\n",
        "test_image = np.expand_dims(test_image, axis=0)\n",
        "\n",
        "result = cnn.predict(test_image)\n",
        "training_set.class_indices\n",
        "print(result)\n",
        "\n",
        "if result[0][0] == 1:\n",
        "    prediction = 'Anjing'\n",
        "else:\n",
        "    prediction = 'Kucing'\n",
        "\n",
        "\n"
      ],
      "metadata": {
        "colab": {
          "base_uri": "https://localhost:8080/"
        },
        "id": "rMZckOUPndrV",
        "outputId": "04192fbc-c28d-49c5-a286-f3cf9b533fb3"
      },
      "execution_count": null,
      "outputs": [
        {
          "output_type": "stream",
          "name": "stdout",
          "text": [
            "1/1 [==============================] - 0s 127ms/step\n",
            "[[0.]]\n"
          ]
        }
      ]
    },
    {
      "cell_type": "code",
      "source": [
        "print(prediction)"
      ],
      "metadata": {
        "colab": {
          "base_uri": "https://localhost:8080/"
        },
        "id": "plPTUw2WnFjZ",
        "outputId": "c5f557a0-ac0d-4b49-f0f3-9796222c4afd"
      },
      "execution_count": null,
      "outputs": [
        {
          "output_type": "stream",
          "name": "stdout",
          "text": [
            "Kucing\n"
          ]
        }
      ]
    },
    {
      "cell_type": "code",
      "source": [],
      "metadata": {
        "id": "TDranLPdElJf"
      },
      "execution_count": null,
      "outputs": []
    }
  ]
}