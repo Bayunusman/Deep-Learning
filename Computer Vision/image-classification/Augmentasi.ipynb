{
  "cells": [
    {
      "cell_type": "code",
      "execution_count": null,
      "metadata": {
        "colab": {
          "base_uri": "https://localhost:8080/"
        },
        "id": "etOZcNIF9DI1",
        "outputId": "d4a60134-cda2-4d81-f105-cf3edcaa8305"
      },
      "outputs": [
        {
          "output_type": "stream",
          "name": "stdout",
          "text": [
            "Requirement already satisfied: imgaug in /usr/local/lib/python3.10/dist-packages (0.4.0)\n",
            "Requirement already satisfied: six in /usr/local/lib/python3.10/dist-packages (from imgaug) (1.16.0)\n",
            "Requirement already satisfied: numpy>=1.15 in /usr/local/lib/python3.10/dist-packages (from imgaug) (1.25.2)\n",
            "Requirement already satisfied: scipy in /usr/local/lib/python3.10/dist-packages (from imgaug) (1.11.4)\n",
            "Requirement already satisfied: Pillow in /usr/local/lib/python3.10/dist-packages (from imgaug) (9.4.0)\n",
            "Requirement already satisfied: matplotlib in /usr/local/lib/python3.10/dist-packages (from imgaug) (3.7.1)\n",
            "Requirement already satisfied: scikit-image>=0.14.2 in /usr/local/lib/python3.10/dist-packages (from imgaug) (0.19.3)\n",
            "Requirement already satisfied: opencv-python in /usr/local/lib/python3.10/dist-packages (from imgaug) (4.8.0.76)\n",
            "Requirement already satisfied: imageio in /usr/local/lib/python3.10/dist-packages (from imgaug) (2.31.6)\n",
            "Requirement already satisfied: Shapely in /usr/local/lib/python3.10/dist-packages (from imgaug) (2.0.4)\n",
            "Requirement already satisfied: networkx>=2.2 in /usr/local/lib/python3.10/dist-packages (from scikit-image>=0.14.2->imgaug) (3.3)\n",
            "Requirement already satisfied: tifffile>=2019.7.26 in /usr/local/lib/python3.10/dist-packages (from scikit-image>=0.14.2->imgaug) (2024.5.10)\n",
            "Requirement already satisfied: PyWavelets>=1.1.1 in /usr/local/lib/python3.10/dist-packages (from scikit-image>=0.14.2->imgaug) (1.6.0)\n",
            "Requirement already satisfied: packaging>=20.0 in /usr/local/lib/python3.10/dist-packages (from scikit-image>=0.14.2->imgaug) (24.0)\n",
            "Requirement already satisfied: contourpy>=1.0.1 in /usr/local/lib/python3.10/dist-packages (from matplotlib->imgaug) (1.2.1)\n",
            "Requirement already satisfied: cycler>=0.10 in /usr/local/lib/python3.10/dist-packages (from matplotlib->imgaug) (0.12.1)\n",
            "Requirement already satisfied: fonttools>=4.22.0 in /usr/local/lib/python3.10/dist-packages (from matplotlib->imgaug) (4.51.0)\n",
            "Requirement already satisfied: kiwisolver>=1.0.1 in /usr/local/lib/python3.10/dist-packages (from matplotlib->imgaug) (1.4.5)\n",
            "Requirement already satisfied: pyparsing>=2.3.1 in /usr/local/lib/python3.10/dist-packages (from matplotlib->imgaug) (3.1.2)\n",
            "Requirement already satisfied: python-dateutil>=2.7 in /usr/local/lib/python3.10/dist-packages (from matplotlib->imgaug) (2.8.2)\n"
          ]
        }
      ],
      "source": [
        "pip install imgaug"
      ]
    },
    {
      "cell_type": "code",
      "execution_count": null,
      "metadata": {
        "colab": {
          "base_uri": "https://localhost:8080/"
        },
        "id": "JtsurytRiqyi",
        "outputId": "0cfef7fe-29ec-4969-e07d-aa74115ef181"
      },
      "outputs": [
        {
          "output_type": "stream",
          "name": "stdout",
          "text": [
            "Mounted at /content/gdrive\n"
          ]
        }
      ],
      "source": [
        "# Mount Google Drive\n",
        "from google.colab import drive\n",
        "drive.mount('/content/gdrive')"
      ]
    },
    {
      "cell_type": "code",
      "execution_count": null,
      "metadata": {
        "id": "SCgKLnF19Ho8"
      },
      "outputs": [],
      "source": [
        "import os\n",
        "#COLAB_PATH = \"/gdrive/MyDrive/SKRIPSI/DATA\"\n",
        "COLAB_PATH = \"/content/gdrive/MyDrive/SKRIPSI/DATA\"\n",
        "os.chdir(COLAB_PATH)"
      ]
    },
    {
      "cell_type": "code",
      "execution_count": null,
      "metadata": {
        "id": "_Plh_eIr9MCM"
      },
      "outputs": [],
      "source": [
        "import os\n",
        "import cv2\n",
        "import imgaug as ia\n",
        "from imgaug import augmenters as iaa\n",
        "\n",
        "# Membuat objek augmentor\n",
        "augmentor = iaa.Sequential([\n",
        "    iaa.Fliplr(0.5),  # Flipping secara horizontal\n",
        "    iaa.Affine(rotate=(-180, 180)),  # Rotasi gambar antara -10 dan 10 derajat\n",
        "    iaa.GaussianBlur(sigma=(0, 1.0)),  # Blur gambar dengan sigma antara 0 dan 1.0\n",
        "    iaa.AdditiveGaussianNoise(scale=(0, 0.1 * 255))  # Tambahkan Gaussian noise dengan skala antara 0 dan 0.1\n",
        "])\n",
        "\n",
        "# Path ke direktori gambar asli\n",
        "original_images_dir = './REDLEDY'\n",
        "# Path ke direktori untuk menyimpan gambar yang sudah di-augmentasi\n",
        "augmented_images_dir = './AUGREDLEDY'\n",
        "\n",
        "# Membuat direktori untuk menyimpan gambar yang sudah di-augmentasi jika belum ada\n",
        "os.makedirs(augmented_images_dir, exist_ok=True)\n",
        "\n",
        "# Daftar semua nama gambar asli di direktori\n",
        "image_files = os.listdir(original_images_dir)\n",
        "\n",
        "# Jumlah data augmentasi yang diinginkan\n",
        "desired_num_augmented = 100\n",
        "\n",
        "# Augmentasi dan menyimpan setiap gambar hingga mencapai jumlah data yang diinginkan\n",
        "for image_file in image_files:\n",
        "    # Membaca gambar asli\n",
        "    image_path = os.path.join(original_images_dir, image_file)\n",
        "    image = cv2.imread(image_path)\n",
        "\n",
        "    # Melakukan augmentasi pada gambar hingga mencapai jumlah data yang diinginkan\n",
        "    num_augmented = 0\n",
        "    while num_augmented < desired_num_augmented:\n",
        "        augmented_images = augmentor(images=[image])\n",
        "\n",
        "        # Menyimpan semua gambar yang sudah di-augmentasi\n",
        "        for i, augmented_image in enumerate(augmented_images):\n",
        "            augmented_image_path = os.path.join(augmented_images_dir, f\"augmented_{num_augmented}_{image_file}\")\n",
        "            cv2.imwrite(augmented_image_path, augmented_image)\n",
        "            num_augmented += 1\n",
        "\n",
        "            if num_augmented >= desired_num_augmented:\n",
        "                break\n",
        "\n",
        "        if num_augmented >= desired_num_augmented:\n",
        "            break"
      ]
    }
  ],
  "metadata": {
    "colab": {
      "provenance": []
    },
    "kernelspec": {
      "display_name": "Python 3",
      "name": "python3"
    },
    "language_info": {
      "name": "python"
    }
  },
  "nbformat": 4,
  "nbformat_minor": 0
}